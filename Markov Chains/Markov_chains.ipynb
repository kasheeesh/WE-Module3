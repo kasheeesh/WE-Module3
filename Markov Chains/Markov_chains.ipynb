{
  "nbformat": 4,
  "nbformat_minor": 0,
  "metadata": {
    "colab": {
      "provenance": []
    },
    "kernelspec": {
      "name": "python3",
      "display_name": "Python 3"
    },
    "language_info": {
      "name": "python"
    }
  },
  "cells": [
    {
      "cell_type": "code",
      "execution_count": 48,
      "metadata": {
        "colab": {
          "base_uri": "https://localhost:8080/"
        },
        "id": "jCCDAJ9GtEaG",
        "outputId": "d25bc914-18b1-4039-eb19-db0b8cdbdd53"
      },
      "outputs": [
        {
          "output_type": "stream",
          "name": "stdout",
          "text": [
            "the rain was falling brightly a gentle the day along sky\n"
          ]
        }
      ],
      "source": [
        "import random\n",
        "\n",
        "\n",
        "def clean_text(text):\n",
        "  \"\"\"\n",
        "  Cleans a block of text by removing punctuation and converting to lowercase.\n",
        "\n",
        "  Args:\n",
        "      text: The text to be cleaned.\n",
        "\n",
        "  Returns:\n",
        "      The cleaned text.\n",
        "  \"\"\"\n",
        "  # Remove punctuation\n",
        "  text = ''.join([char for char in text if char.isalnum() or char.isspace()])\n",
        "  # Convert to lowercase\n",
        "  text = text.lower()\n",
        "  return text\n",
        "\n",
        "\n",
        "def generate(text_collection: str, start_words: list[str], chain_length: int, num_generated: int) -> str:\n",
        "  \"\"\"\n",
        "  Generates a sentence that imitates the style of a text collection using Markov chains.\n",
        "\n",
        "  Args:\n",
        "      text_collection: A string containing the text to use for training (cleaned beforehand).\n",
        "      start_words: A list of words to start the generated sentence (must be same length as chain_length).\n",
        "      chain_length: The number of words to consider when predicting the next word.\n",
        "      num_generated: The number of words to generate in the output sentence (including start_words).\n",
        "\n",
        "  Returns:\n",
        "      A string containing a generated sentence that imitates the style of the input text collection.\n",
        "  \"\"\"\n",
        "\n",
        "  # Clean the text collection\n",
        "  cleaned_text = clean_text(text_collection)\n",
        "\n",
        "  # Validate input\n",
        "  if not cleaned_text:\n",
        "    raise ValueError(\"Cannot generate text from an empty collection\")\n",
        "\n",
        "  if len(start_words) != chain_length:\n",
        "    raise ValueError(\"start_words list must be the same length as chain_length\")\n",
        "\n",
        "  if chain_length <= 0:\n",
        "    raise ValueError(\"chain_length must be a positive integer\")\n",
        "\n",
        "  # Lowercase the text and split it into words\n",
        "  text = cleaned_text.split()\n",
        "\n",
        "  # Create a dictionary to store word transitions\n",
        "  transitions = {}\n",
        "  for i in range(len(text) - chain_length):\n",
        "    current_words = tuple(text[i:i + chain_length])\n",
        "    next_word = text[i + chain_length]\n",
        "    if current_words not in transitions:\n",
        "      transitions[current_words] = []\n",
        "    transitions[current_words].append(next_word)\n",
        "\n",
        "  # Generate the sentence\n",
        "  generated_sentence = start_words\n",
        "  for _ in range(num_generated):\n",
        "    current_words = tuple(generated_sentence[-chain_length:])\n",
        "    if current_words not in transitions:\n",
        "      # If the current word sequence is not found, choose a random word from the entire text\n",
        "      next_word = random.choice(text)\n",
        "    else:\n",
        "      # Randomly pick a word from the words that follow the current word sequence\n",
        "      next_word = random.choice(transitions[current_words])\n",
        "    generated_sentence.append(next_word)\n",
        "\n",
        "  # Return the generated sentence as a string\n",
        "  return \" \".join(generated_sentence)\n",
        "\n",
        "\n",
        "# Sample text collection (already cleaned)\n",
        "text_collection = \"the sun was shining brightly in the clear blue sky birds were singing in the trees and a gentle breeze was blowing it was a perfect day for a walk in the park i wandered along the winding paths enjoying the fresh air and the beauty of nature\"\n",
        "\n",
        "# Example usage\n",
        "start_words = [\"the\", \"rain\", \"was\", \"falling\"]\n",
        "chain_length = 4\n",
        "num_generated = 7\n",
        "\n",
        "generated_sentence = generate(text_collection, start_words, chain_length, num_generated)\n",
        "\n",
        "print(generated_sentence)\n"
      ]
    },
    {
      "cell_type": "code",
      "source": [
        "import random\n",
        "\n",
        "\n",
        "def clean_text(text):\n",
        "  \"\"\"\n",
        "  Cleans a block of text by removing punctuation and converting to lowercase.\n",
        "\n",
        "  Args:\n",
        "      text: The text to be cleaned.\n",
        "\n",
        "  Returns:\n",
        "      The cleaned text.\n",
        "  \"\"\"\n",
        "  # Remove punctuation\n",
        "  text = ''.join([char for char in text if char.isalnum() or char.isspace()])\n",
        "  # Convert to lowercase\n",
        "  text = text.lower()\n",
        "  return text\n",
        "\n"
      ],
      "metadata": {
        "id": "6kH6hzBzuK_9"
      },
      "execution_count": 49,
      "outputs": []
    },
    {
      "cell_type": "code",
      "source": [
        "def validate_input(text_collection, start_words, chain_length):\n",
        "  \"\"\"\n",
        "  Validates the input parameters for the text generation process.\n",
        "\n",
        "  Args:\n",
        "      text_collection: The text to use for training (cleaned beforehand).\n",
        "      start_words: A list of words to start the generated sentence.\n",
        "      chain_length: The number of words to consider when predicting the next word.\n",
        "\n",
        "  Raises:\n",
        "      ValueError: If the text collection is empty, start_words length mismatches chain_length,\n",
        "                  or chain_length is non-positive.\n",
        "  \"\"\"\n",
        "  if not text_collection:\n",
        "    raise ValueError(\"Cannot generate text from an empty collection\")\n",
        "\n",
        "  if len(start_words) != chain_length:\n",
        "    raise ValueError(\"start_words list must be the same length as chain_length\")\n",
        "\n",
        "  if chain_length <= 0:\n",
        "    raise ValueError(\"chain_length must be a positive integer\")\n"
      ],
      "metadata": {
        "id": "dKnrM4xDuO_J"
      },
      "execution_count": 28,
      "outputs": []
    },
    {
      "cell_type": "code",
      "source": [
        "text_collection = \"the sun was shining brightly in the clear blue sky birds were singing in the trees and a gentle breeze was blowing it was a perfect day for a walk in the park i wandered along the winding paths enjoying the fresh air and the beauty of nature\"\n",
        "\n",
        "# Example usage\n",
        "start_words = [\"the\", \"quick\", \"brown\"]\n",
        "\n",
        "chain_length = 3\n",
        "num_generated = 7  # Increase num_generated to trigger missing transitions\n",
        "\n",
        "try:\n",
        "  generated_sentence = generate_text(text_collection, start_words, chain_length, num_generated)\n",
        "  # If generation completes without exception, consider it a pass\n",
        "  print(\"Test Case 2 Passed!\")\n",
        "except ValueError:  # Exception might be raised if missing transitions occur\n",
        "  print(\"Test Case 2: Expected behavior (handling missing transitions)\")\n"
      ],
      "metadata": {
        "colab": {
          "base_uri": "https://localhost:8080/"
        },
        "id": "IXNd2Qk8wExQ",
        "outputId": "94308277-50c6-4b36-90e3-8f1314e18dd4"
      },
      "execution_count": 61,
      "outputs": [
        {
          "output_type": "stream",
          "name": "stdout",
          "text": [
            "Test Case 2 Passed!\n"
          ]
        }
      ]
    },
    {
      "cell_type": "code",
      "source": [
        "# Same text collection as before\n",
        "test_cases = [\n",
        "    {\"start_words\": [\"it\", \"was\", \"a\"], \"chain_length\": 3, \"num_generated\": 4},\n",
        "    {\"start_words\": [\"the\", \"birds\", \"were\"], \"chain_length\": 3, \"num_generated\": 5}\n",
        "]\n",
        "\n",
        "for test_case in test_cases:\n",
        "    start_words = test_case[\"start_words\"]\n",
        "    chain_length = test_case[\"chain_length\"]\n",
        "    num_generated = test_case[\"num_generated\"]\n",
        "\n",
        "    generated_sentence = generate_text(text_collection, start_words, chain_length, num_generated)\n",
        "    print(f\"Generated sentence (start_words: {start_words}, chain_length: {chain_length}, num_generated: {num_generated}):\")\n",
        "    print(generated_sentence)\n",
        "    print(\"---\")\n",
        "\n",
        "print(\"Test Case 3 Passed!\")\n"
      ],
      "metadata": {
        "colab": {
          "base_uri": "https://localhost:8080/"
        },
        "id": "M6-an4-jyTwZ",
        "outputId": "b5c40346-e442-4386-b268-60796b2fe678"
      },
      "execution_count": 63,
      "outputs": [
        {
          "output_type": "stream",
          "name": "stdout",
          "text": [
            "Generated sentence (start_words: ['it', 'was', 'a', 'perfect', 'day', 'for', 'a'], chain_length: 3, num_generated: 4):\n",
            "it was a perfect day for a\n",
            "---\n",
            "Generated sentence (start_words: ['the', 'birds', 'were', 'shining', 'the', 'was', 'was', 'a'], chain_length: 3, num_generated: 5):\n",
            "the birds were shining the was was a\n",
            "---\n",
            "Test Case 3 Passed!\n"
          ]
        }
      ]
    },
    {
      "cell_type": "code",
      "source": [
        "# Sample text collection (already cleaned)\n",
        "text_collection = \"the sun was shining brightly in the clear blue sky birds were singing in the trees and a gentle breeze was blowing it was a perfect day for a walk in the park i wandered along the winding paths enjoying the fresh air and the beauty of nature\"\n",
        "\n",
        "# Example usage\n",
        "start_words = [\"the\", \"quick\", \"brown\"]\n",
        "chain_length = 3\n",
        "num_generated = 3\n",
        "\n",
        "generated_sentence = generate_text(text_collection, start_words, chain_length, num_generated)\n",
        "print(generated_sentence)\n",
        "\n",
        "if generated_sentence.startswith(\" \".join(start_words)) and len(generated_sentence.split()) == (num_generated + chain_length):\n",
        "    print(\"Test Case 1 passed!\")\n"
      ],
      "metadata": {
        "colab": {
          "base_uri": "https://localhost:8080/"
        },
        "id": "bUi2wC949-Al",
        "outputId": "db82b695-7fc1-4853-e1b2-41d28abde1f1"
      },
      "execution_count": 59,
      "outputs": [
        {
          "output_type": "stream",
          "name": "stdout",
          "text": [
            "the quick brown shining blue was\n",
            "Test Case 1 passed!\n"
          ]
        }
      ]
    }
  ]
}