{
  "nbformat": 4,
  "nbformat_minor": 0,
  "metadata": {
    "colab": {
      "provenance": []
    },
    "kernelspec": {
      "name": "python3",
      "display_name": "Python 3"
    },
    "language_info": {
      "name": "python"
    }
  },
  "cells": [
    {
      "cell_type": "code",
      "execution_count": 3,
      "metadata": {
        "id": "S4dTLMs7aCgL"
      },
      "outputs": [],
      "source": [
        "import random\n",
        "\n",
        "def roll_dice(num_dice):\n",
        "  \"\"\"\n",
        "  Simulates rolling a given number of dice.\n",
        "\n",
        "  Args:\n",
        "      num_dice: The number of dice to roll (integer).\n",
        "\n",
        "  Returns:\n",
        "      A list of integers representing the results of each die roll.\n",
        "  \"\"\"\n",
        "\n",
        "  dice_rolls = []\n",
        "  for _ in range(num_dice):\n",
        "    # Generate a random integer between 1 and 6 (inclusive)\n",
        "    dice_rolls.append(random.randint(1, 6))\n",
        "  return dice_rolls"
      ]
    },
    {
      "cell_type": "code",
      "source": [
        "def re_roll(dice, indices):\n",
        "  \"\"\"\n",
        "  Re-rolls specific dice in a list, providing warnings for invalid indices.\n",
        "\n",
        "  Args:\n",
        "      dice: A list of integers representing the current dice values.\n",
        "      indices: A list of integers representing the indices of dice to re-roll.\n",
        "\n",
        "  Returns:\n",
        "      A new list of dice with the specified dice re-rolled.\n",
        "  \"\"\"\n",
        "\n",
        "  new_dice = dice.copy()  # Create a copy to avoid modifying original list\n",
        "  valid_indices = []\n",
        "  for index in indices:\n",
        "    if 0 <= index < len(dice):\n",
        "      valid_indices.append(index)\n",
        "    else:\n",
        "      print(f\"Warning: Invalid index {index}. Skipping re-roll.\")\n",
        "  for index in valid_indices:\n",
        "    new_dice[index] = random.randint(1, 6)\n",
        "  return new_dice\n"
      ],
      "metadata": {
        "id": "JWvbNgFAaMhF"
      },
      "execution_count": 24,
      "outputs": []
    },
    {
      "cell_type": "code",
      "source": [
        "def calculate_score(dice, category):\n",
        "  \"\"\"\n",
        "  Calculates the score for a given dice roll and scoring category.\n",
        "\n",
        "  Args:\n",
        "      dice: A list of integers representing the dice values.\n",
        "      category: A string representing the scoring category (e.g., \"Ones\", \"Full House\").\n",
        "\n",
        "  Returns:\n",
        "      An integer representing the score for the given category, or 0 if invalid category.\n",
        "  \"\"\"\n",
        "\n",
        "  score = 0\n",
        "  if category == \"Ones\":\n",
        "    score = sum(die for die in dice if die == 1)\n",
        "  elif category == \"Twos\":\n",
        "    score = sum(die for die in dice if die == 2)\n",
        "  elif category == \"Threes\":\n",
        "     score = sum(die for die in dice if die == 3)\n",
        "\n",
        "  elif category == \"Fours\":\n",
        "     score = sum(die for die in dice if die == 4)\n",
        "  # ... Add logic for remaining categories (Full House, Small Straight, Large Straight, Yahtzee, Chance)\n",
        "  else:\n",
        "    score = 0  # Invalid category\n",
        "\n",
        "  return score\n"
      ],
      "metadata": {
        "id": "9HLF2xH4aTqT"
      },
      "execution_count": 6,
      "outputs": []
    },
    {
      "cell_type": "code",
      "source": [
        "def check_available_categories(used_categories):\n",
        "  \"\"\"\n",
        "  Checks which scoring categories are still available based on used categories.\n",
        "\n",
        "  Args:\n",
        "      used_categories: A list of strings representing the already used categories.\n",
        "\n",
        "  Returns:\n",
        "      A list of strings representing the remaining available categories.\n",
        "  \"\"\"\n",
        "\n",
        "  all_categories = [\"Ones\", \"Twos\", \"Threes\", \"Fours\", \"Fives\", \"Sixes\",\n",
        "                    \"Three of a Kind\", \"Four of a Kind\", \"Full House\",\n",
        "                    \"Small Straight\", \"Large Straight\", \"Yahtzee\", \"Chance\"]\n",
        "  available_categories = [category for category in all_categories\n",
        "                           if category not in used_categories]\n",
        "  return available_categories\n"
      ],
      "metadata": {
        "id": "M7utSc1PamQq"
      },
      "execution_count": 7,
      "outputs": []
    },
    {
      "cell_type": "code",
      "source": [
        "categories = {\n",
        "  \"Ones\": False,\n",
        "  \"Twos\": False,\n",
        "  \"Threes\": False,\n",
        "  \"Fours\": False,\n",
        "  \"Fives\": False,\n",
        "  \"Sixes\": False,\n",
        "  \"Three of a Kind\": False,\n",
        "  \"Four of a Kind\": False,\n",
        "  \"Full House\": False,\n",
        "  \"Small Straight\": False,\n",
        "  \"Large Straight\": False,\n",
        "  \"Yahtzee\": False,\n",
        "  \"Chance\": False\n",
        "}\n",
        "def mark_category_used(category):\n",
        "  \"\"\"\n",
        "  Marks a specific category as used in the scoring dictionary.\n",
        "\n",
        "  Args:\n",
        "      category: A string representing the category to mark as used.\n",
        "  \"\"\"\n",
        "\n",
        "  if category in categories:\n",
        "    categories[category] = True\n",
        "  else:\n",
        "    print(f\"Invalid category: {category}\")"
      ],
      "metadata": {
        "id": "XEhj22Teas0F"
      },
      "execution_count": 8,
      "outputs": []
    },
    {
      "cell_type": "code",
      "source": [
        "def evaluate_options(dice, categories):\n",
        "  \"\"\"\n",
        "  Evaluates available scoring options and suggests the best category.\n",
        "\n",
        "  Args:\n",
        "      dice: A list of integers representing the dice roll.\n",
        "      categories: A list of strings representing the available scoring categories.\n",
        "\n",
        "  Returns:\n",
        "      A tuple containing the best category (string) and its potential score (integer).\n",
        "  \"\"\"\n",
        "\n",
        "  best_category = None\n",
        "  best_score = 0\n",
        "\n",
        "  for category in categories:\n",
        "    # Calculate score for the current category\n",
        "    score = calculate_score(dice.copy(), category)  # Avoid modifying original dice\n",
        "\n",
        "    # Update best option if current score is higher\n",
        "    if score > best_score:\n",
        "      best_category = category\n",
        "      best_score = score\n",
        "\n",
        "  return best_category, best_score\n"
      ],
      "metadata": {
        "id": "EbRWvSwFaylz"
      },
      "execution_count": 9,
      "outputs": []
    },
    {
      "cell_type": "code",
      "source": [
        "def get_user_choice(categories, suggested_category, suggested_score):\n",
        "  \"\"\"\n",
        "  Prompts the user to choose a scoring category or accept the bot's suggestion.\n",
        "\n",
        "  Args:\n",
        "      categories: A list of strings representing the available scoring categories.\n",
        "      suggested_category: A string representing the bot's suggested category.\n",
        "      suggested_score: An integer representing the potential score for the suggestion.\n",
        "\n",
        "  Returns:\n",
        "      A string representing the user's chosen category.\n",
        "  \"\"\"\n",
        "\n",
        "  print(f\"Available categories: {', '.join(categories)}\")\n",
        "  print(f\"Bot suggests: {suggested_category} ({suggested_score} points)\")\n",
        "\n",
        "  while True:\n",
        "    user_choice = input(\"Choose a category (or 'accept' for bot suggestion): \").lower()\n",
        "    if user_choice == \"accept\":\n",
        "      return suggested_category\n",
        "    elif user_choice in categories:\n",
        "      return user_choice\n",
        "    else:\n",
        "      print(\"Invalid choice. Please choose from available categories or 'accept'.\")"
      ],
      "metadata": {
        "id": "c8AFz5wCbBq8"
      },
      "execution_count": 10,
      "outputs": []
    },
    {
      "cell_type": "code",
      "source": [
        "scores = {\n",
        "  \"Upper Section\": 0,\n",
        "  \"Lower Section\": 0,\n",
        "  \"Bonus\": 0,\n",
        "  \"Grand Total\": 0,\n",
        "  \"Ones\": None,\n",
        "  \"Twos\": None,\n",
        "  # ... Include all categories here\n",
        "  \"Yahtzee\": None,\n",
        "  \"Chance\": None,\n",
        "}\n",
        "def update_score(category, score):\n",
        "  \"\"\"\n",
        "  Updates the score for a specific category and related sections in the score dictionary.\n",
        "\n",
        "  Args:\n",
        "      category: A string representing the scoring category.\n",
        "      score: An integer representing the score for the category.\n",
        "  \"\"\"\n",
        "\n",
        "  if category in scores:\n",
        "    scores[category] = score\n",
        "\n",
        "    # Update section scores based on category\n",
        "    if category in [\"Ones\", \"Twos\", \"Threes\", \"Fours\", \"Fives\", \"Sixes\"]:\n",
        "      scores[\"Upper Section\"] += score\n",
        "      if scores[\"Upper Section\"] >= 63:\n",
        "        scores[\"Bonus\"] = 35\n",
        "    else:\n",
        "      scores[\"Lower Section\"] += score\n",
        "\n",
        "    # Update Grand Total\n",
        "    scores[\"Grand Total\"] = sum(scores.values())  # Avoids None values\n",
        "  else:\n",
        "    print(f\"Invalid category for update: {category}\")"
      ],
      "metadata": {
        "id": "AhjcBKiWbF4h"
      },
      "execution_count": 11,
      "outputs": []
    },
    {
      "cell_type": "code",
      "source": [
        "dice = roll_dice(5)\n",
        "print(dice)"
      ],
      "metadata": {
        "colab": {
          "base_uri": "https://localhost:8080/"
        },
        "id": "fI78ZR1xcWUC",
        "outputId": "648f8512-b4f9-4493-8ef2-1bebcd6d0631"
      },
      "execution_count": 30,
      "outputs": [
        {
          "output_type": "stream",
          "name": "stdout",
          "text": [
            "[1, 6, 6, 6, 3]\n"
          ]
        }
      ]
    },
    {
      "cell_type": "code",
      "source": [
        "roll_dice(3)"
      ],
      "metadata": {
        "colab": {
          "base_uri": "https://localhost:8080/"
        },
        "id": "R4nsGk2ncuFX",
        "outputId": "4dc96b78-1188-414d-857b-a3f1f2fc5952"
      },
      "execution_count": 13,
      "outputs": [
        {
          "output_type": "execute_result",
          "data": {
            "text/plain": [
              "[4, 6, 1]"
            ]
          },
          "metadata": {},
          "execution_count": 13
        }
      ]
    },
    {
      "cell_type": "code",
      "source": [
        "re_roll(dice,[1,3])"
      ],
      "metadata": {
        "colab": {
          "base_uri": "https://localhost:8080/"
        },
        "id": "XECoxwuDcxoB",
        "outputId": "63a07041-acce-4544-987f-0ed0822f9f6c"
      },
      "execution_count": 21,
      "outputs": [
        {
          "output_type": "execute_result",
          "data": {
            "text/plain": [
              "[4, 3, 6, 2, 4]"
            ]
          },
          "metadata": {},
          "execution_count": 21
        }
      ]
    },
    {
      "cell_type": "code",
      "source": [
        "re_roll(dice,[-1,4])"
      ],
      "metadata": {
        "colab": {
          "base_uri": "https://localhost:8080/"
        },
        "id": "Nx9w6JlydU3b",
        "outputId": "ad33547d-fb40-4bd6-9477-8e09b203d679"
      },
      "execution_count": 25,
      "outputs": [
        {
          "output_type": "stream",
          "name": "stdout",
          "text": [
            "Warning: Invalid index -1. Skipping re-roll.\n"
          ]
        },
        {
          "output_type": "execute_result",
          "data": {
            "text/plain": [
              "[4, 6, 6, 6, 5]"
            ]
          },
          "metadata": {},
          "execution_count": 25
        }
      ]
    },
    {
      "cell_type": "code",
      "source": [
        "calculate_score(dice,\"Threes\")"
      ],
      "metadata": {
        "colab": {
          "base_uri": "https://localhost:8080/"
        },
        "id": "zP4Pr9xAd0ob",
        "outputId": "dcb50560-9c01-4513-f1fd-add8003386ba"
      },
      "execution_count": 31,
      "outputs": [
        {
          "output_type": "execute_result",
          "data": {
            "text/plain": [
              "0"
            ]
          },
          "metadata": {},
          "execution_count": 31
        }
      ]
    }
  ]
}