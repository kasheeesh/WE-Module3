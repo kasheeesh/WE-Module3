{
  "nbformat": 4,
  "nbformat_minor": 0,
  "metadata": {
    "colab": {
      "provenance": []
    },
    "kernelspec": {
      "name": "python3",
      "display_name": "Python 3"
    },
    "language_info": {
      "name": "python"
    }
  },
  "cells": [
    {
      "cell_type": "code",
      "execution_count": null,
      "metadata": {
        "id": "chGjPimCVNXh"
      },
      "outputs": [],
      "source": [
        "def next_reading(reading):\n",
        "    \"\"\"Find the next reading for a given reading.\"\"\"\n",
        "    reading = list(reading)\n",
        "    for i in range(len(reading) - 1, 0, -1):\n",
        "        if reading[i] > reading[i - 1]:\n",
        "            reading[i], reading[i - 1] = reading[i - 1], reading[i]\n",
        "            return int(''.join(map(str, reading)))\n",
        "    return -1  # If the reading is already the largest, return -1\n",
        "\n",
        "\n",
        "def prev_reading(reading):\n",
        "    \"\"\"Find the previous reading for a given reading.\"\"\"\n",
        "    reading = list(reading)\n",
        "    for i in range(len(reading) - 1):\n",
        "        if reading[i] > reading[i + 1]:\n",
        "            reading[i], reading[i + 1] = reading[i + 1], reading[i]\n",
        "            return int(''.join(map(str, reading)))\n",
        "    return -1  # If the reading is already the smallest, return -1\n",
        "\n",
        "\n",
        "def nth_reading_after(reading, r):\n",
        "    \"\"\"Find the nth reading after a given reading.\"\"\"\n",
        "    next_r = reading\n",
        "    for _ in range(r):\n",
        "        next_r = next_reading(next_r)\n",
        "    return next_r\n",
        "\n",
        "\n",
        "def nth_reading_before(reading, r):\n",
        "    \"\"\"Find the nth reading before a given reading.\"\"\"\n",
        "    prev_r = reading\n",
        "    for _ in range(r):\n",
        "        prev_r = prev_reading(prev_r)\n",
        "    return prev_r\n",
        "\n",
        "\n",
        "def distance(reading1, reading2):\n",
        "    \"\"\"Find the number of readings between two given readings.\"\"\"\n",
        "    if len(str(reading1)) != len(str(reading2)):\n",
        "        return -1  # Return -1 if different sized readings are given\n",
        "\n",
        "    readings = [reading1]\n",
        "    count = 0\n",
        "    while readings[-1] != reading2:\n",
        "        next_r = next_reading(readings[-1])\n",
        "        readings.append(next_r)\n",
        "        count += 1\n",
        "        if next_r == -1:\n",
        "            return -1  # If readings are not strictly increasing, return -1\n",
        "    return count\n"
      ]
    },
    {
      "cell_type": "code",
      "source": [
        "next_reading(\"123\")"
      ],
      "metadata": {
        "colab": {
          "base_uri": "https://localhost:8080/"
        },
        "id": "THFALvNhVfCJ",
        "outputId": "114f0461-4bde-4964-c44c-e388af412992"
      },
      "execution_count": null,
      "outputs": [
        {
          "output_type": "execute_result",
          "data": {
            "text/plain": [
              "132"
            ]
          },
          "metadata": {},
          "execution_count": 4
        }
      ]
    },
    {
      "cell_type": "code",
      "source": [
        "def next_reading(reading):\n",
        "    \"\"\"Find the next reading for a given reading.\"\"\"\n",
        "    digits = [int(digit) for digit in str(reading)]\n",
        "    for i in range(len(digits) - 1, 0, -1):\n",
        "        if digits[i] > digits[i - 1]:\n",
        "            digits[i], digits[i - 1] = digits[i - 1], digits[i]\n",
        "            return int(''.join(map(str, digits)))\n",
        "    return -1  # If the reading is already the largest, return -1\n",
        "\n",
        "\n",
        "def prev_reading(reading):\n",
        "    \"\"\"Find the previous reading for a given reading.\"\"\"\n",
        "    digits = [int(digit) for digit in str(reading)]\n",
        "    for i in range(len(digits) - 1):\n",
        "        if digits[i] > digits[i + 1]:\n",
        "            digits[i], digits[i + 1] = digits[i + 1], digits[i]\n",
        "            return int(''.join(map(str, digits)))\n",
        "    return -1  # If the reading is already the smallest, return -1\n",
        "\n",
        "\n",
        "def nth_reading_after(reading, r):\n",
        "    \"\"\"Find the nth reading after a given reading.\"\"\"\n",
        "    next_r = reading\n",
        "    for _ in range(r):\n",
        "        next_r = next_reading(next_r)\n",
        "    return next_r\n",
        "\n",
        "\n",
        "def nth_reading_before(reading, r):\n",
        "    \"\"\"Find the nth reading before a given reading.\"\"\"\n",
        "    prev_r = reading\n",
        "    for _ in range(r):\n",
        "        prev_r = prev_reading(prev_r)\n",
        "    return prev_r\n",
        "\n",
        "\n",
        "def distance(reading1, reading2):\n",
        "    \"\"\"Find the number of readings between two given readings.\"\"\"\n",
        "    if len(str(reading1)) != len(str(reading2)):\n",
        "        return -1  # Return -1 if different sized readings are given\n",
        "\n",
        "    readings = [reading1]\n",
        "    count = 0\n",
        "    while readings[-1] != reading2:\n",
        "        next_r = next_reading(readings[-1])\n",
        "        readings.append(next_r)\n",
        "        count += 1\n",
        "        if next_r == -1:\n",
        "            return -1  # If readings are not strictly increasing, return -1\n",
        "    return count\n"
      ],
      "metadata": {
        "id": "1yhfgGqvWUDH"
      },
      "execution_count": null,
      "outputs": []
    },
    {
      "cell_type": "code",
      "source": [
        "next_reading(124)"
      ],
      "metadata": {
        "colab": {
          "base_uri": "https://localhost:8080/"
        },
        "id": "PglozflkWXAd",
        "outputId": "bd48cbc7-4035-4590-9107-2e91cde98913"
      },
      "execution_count": null,
      "outputs": [
        {
          "output_type": "execute_result",
          "data": {
            "text/plain": [
              "142"
            ]
          },
          "metadata": {},
          "execution_count": 7
        }
      ]
    },
    {
      "cell_type": "code",
      "source": [
        "def next_reading(reading):\n",
        "    \"\"\"Find the next reading for a given reading.\"\"\"\n",
        "    reading += 1\n",
        "    while '0' in str(reading) or not all(x < y for x, y in zip(str(reading), str(reading)[1:])):\n",
        "        reading += 1\n",
        "    return reading\n",
        "\n",
        "def prev_reading(reading):\n",
        "    \"\"\"Find the previous reading for a given reading.\"\"\"\n",
        "    reading -= 1\n",
        "    while '0' in str(reading) or not all(x < y for x, y in zip(str(reading), str(reading)[1:])):\n",
        "        reading -= 1\n",
        "    return reading\n",
        "\n",
        "\n",
        "def nth_reading_after(reading, r):\n",
        "    \"\"\"Find the nth reading after a given reading.\"\"\"\n",
        "    next_r = reading\n",
        "    for _ in range(r):\n",
        "        next_r = next_reading(next_r)\n",
        "    return next_r\n",
        "\n",
        "\n",
        "def nth_reading_before(reading, r):\n",
        "    \"\"\"Find the nth reading before a given reading.\"\"\"\n",
        "    prev_r = reading\n",
        "    for _ in range(r):\n",
        "        prev_r = prev_reading(prev_r)\n",
        "    return prev_r\n",
        "\n",
        "\n",
        "def distance(reading1, reading2):\n",
        "    \"\"\"Find the number of readings between two given readings.\"\"\"\n",
        "    if len(str(reading1)) != len(str(reading2)):\n",
        "        return -1  # Return -1 if different sized readings are given\n",
        "\n",
        "    readings = [reading1]\n",
        "    count = 0\n",
        "    while readings[-1] != reading2:\n",
        "        next_r = next_reading(readings[-1])\n",
        "        readings.append(next_r)\n",
        "        count += 1\n",
        "        if next_r == -1:\n",
        "            return -1  # If readings are not strictly increasing, return -1\n",
        "    return count\n",
        "\n"
      ],
      "metadata": {
        "id": "3h0GtgNdYMCH"
      },
      "execution_count": null,
      "outputs": []
    },
    {
      "cell_type": "code",
      "source": [
        "next_reading(9)"
      ],
      "metadata": {
        "colab": {
          "base_uri": "https://localhost:8080/"
        },
        "id": "vE_Bcek5YOLm",
        "outputId": "2e05a726-5ac2-46b9-a61f-9647e2874a40"
      },
      "execution_count": null,
      "outputs": [
        {
          "output_type": "execute_result",
          "data": {
            "text/plain": [
              "12"
            ]
          },
          "metadata": {},
          "execution_count": 27
        }
      ]
    },
    {
      "cell_type": "code",
      "source": [
        "prev_reading(159)"
      ],
      "metadata": {
        "colab": {
          "base_uri": "https://localhost:8080/"
        },
        "id": "n8qA6oZfZBHh",
        "outputId": "2f712cee-e73c-4e62-ebe5-23fd7122fb86"
      },
      "execution_count": null,
      "outputs": [
        {
          "output_type": "execute_result",
          "data": {
            "text/plain": [
              "158"
            ]
          },
          "metadata": {},
          "execution_count": 19
        }
      ]
    },
    {
      "cell_type": "markdown",
      "source": [
        "**For making the code more cleaner, we could make a function that checks whether the reading is in ascending order or not.**"
      ],
      "metadata": {
        "id": "fWwNQCvXdAAh"
      }
    },
    {
      "cell_type": "code",
      "source": [
        "def is_ascending(k: int) -> bool:\n",
        "    return all(x < y for x, y in zip(str(k), str(k)[1:]))"
      ],
      "metadata": {
        "id": "IR-XvLfWdMUV"
      },
      "execution_count": null,
      "outputs": []
    },
    {
      "cell_type": "code",
      "source": [
        "is_ascending(213)"
      ],
      "metadata": {
        "colab": {
          "base_uri": "https://localhost:8080/"
        },
        "id": "0Oem8Hs8dSle",
        "outputId": "1bf2987e-6d84-43f9-e01c-58fcfaec5ebc"
      },
      "execution_count": null,
      "outputs": [
        {
          "output_type": "execute_result",
          "data": {
            "text/plain": [
              "False"
            ]
          },
          "metadata": {},
          "execution_count": 23
        }
      ]
    },
    {
      "cell_type": "code",
      "source": [
        "def is_ascending(reading: int) ->bool:\n",
        "    r = str(reading)\n",
        "    return all(a < b for a,b in zip(r,r[1:]))"
      ],
      "metadata": {
        "id": "8hKV0czld8Zx"
      },
      "execution_count": null,
      "outputs": []
    },
    {
      "cell_type": "code",
      "source": [
        "is_ascending(123)"
      ],
      "metadata": {
        "colab": {
          "base_uri": "https://localhost:8080/"
        },
        "id": "K6XsGbeGeaE4",
        "outputId": "a56e543e-7c3a-4f61-dc1d-033ea662971c"
      },
      "execution_count": null,
      "outputs": [
        {
          "output_type": "execute_result",
          "data": {
            "text/plain": [
              "True"
            ]
          },
          "metadata": {},
          "execution_count": 26
        }
      ]
    },
    {
      "cell_type": "code",
      "source": [
        "def is_ascending(reading: int) ->bool:\n",
        "    r = str(reading)\n",
        "    return all(a < b for a,b in zip(r,r[1:]))\n",
        "\n",
        "def next_reading(reading: int)-> int:\n",
        "    size = len(str(reading))\n",
        "    DIGITS = \"123456789\"\n",
        "    START = int(DIGITS[:size])\n",
        "    LIMIT = int(DIGITS[-size:])\n",
        "\n",
        "    if reading == LIMIT:\n",
        "        reading = START\n",
        "    else:\n",
        "        reading += 1\n",
        "        while '0' in str(reading) or not is_ascending(reading):\n",
        "            reading += 1\n",
        "    return reading\n",
        "\n",
        "def prev_reading(reading: int)->int:\n",
        "    size = len(str(reading))\n",
        "    DIGITS = \"123456789\"\n",
        "    START = int(DIGITS[:size])\n",
        "    LIMIT = int(DIGITS[-size:])\n",
        "    if reading == START:\n",
        "        reading = LIMIT\n",
        "    else:\n",
        "        reading -= 1\n",
        "        while '0' in str(reading) or not is_ascending(reading):\n",
        "            reading -= 1\n",
        "    return reading\n",
        "\n",
        "\n",
        "def nth_reading_after(reading :int, r:int)->int:\n",
        "    next_r = reading\n",
        "    for _ in range(r):\n",
        "        next_r = next_reading(next_r)\n",
        "    return next_r\n",
        "\n",
        "\n",
        "def nth_reading_before(reading: int, r:int)->int:\n",
        "    prev_r = reading\n",
        "    for _ in range(r):\n",
        "        prev_r = prev_reading(prev_r)\n",
        "    return prev_r\n",
        "\n",
        "\n",
        "def distance(reading1, reading2):\n",
        "    if len(str(reading1)) != len(str(reading2)):\n",
        "        return -1  # Return -1 if different sized readings are given\n",
        "\n",
        "    readings = [reading1]\n",
        "    count = 0\n",
        "    while readings[-1] != reading2:\n",
        "        next_r = next_reading(readings[-1])\n",
        "        readings.append(next_r)\n",
        "        count += 1\n",
        "        if next_r == -1:\n",
        "            return -1  # If readings are not strictly increasing, return -1\n",
        "    return count\n",
        "\n"
      ],
      "metadata": {
        "id": "D4_mZKM0ejKL"
      },
      "execution_count": null,
      "outputs": []
    },
    {
      "cell_type": "code",
      "source": [
        "def distance(reading1, reading2):\n",
        "    \"\"\"Find the number of readings between two given readings.\"\"\"\n",
        "    str_reading1 = str(reading1)\n",
        "    str_reading2 = str(reading2)\n",
        "\n",
        "    if len(str_reading1) != len(str_reading2):\n",
        "        return -1  # Return -1 if different sized readings are given\n",
        "\n",
        "    # If readings are the same, the distance is 0\n",
        "    if reading1 == reading2:\n",
        "        return 0\n",
        "\n",
        "    count = 0\n",
        "    current_reading = reading1\n",
        "\n",
        "    while current_reading != reading2:\n",
        "        current_reading = next_reading(current_reading)\n",
        "        count += 1\n",
        "\n",
        "        # If the next reading loops back to the beginning, reset it to the smallest reading\n",
        "        if current_reading == reading1:\n",
        "            current_reading = int('1' * len(str_reading1))\n",
        "\n",
        "    return count\n"
      ],
      "metadata": {
        "id": "UCC4Vchef6Gf"
      },
      "execution_count": null,
      "outputs": []
    },
    {
      "cell_type": "code",
      "source": [
        "distance(789,123)"
      ],
      "metadata": {
        "colab": {
          "base_uri": "https://localhost:8080/"
        },
        "id": "Xx8eY29mhE1Z",
        "outputId": "fc4bf418-4273-4fce-ba53-1d8c40f91c66"
      },
      "execution_count": null,
      "outputs": [
        {
          "output_type": "execute_result",
          "data": {
            "text/plain": [
              "1"
            ]
          },
          "metadata": {},
          "execution_count": 39
        }
      ]
    },
    {
      "cell_type": "code",
      "source": [
        "def distance(reading1, reading2):\n",
        "    \"\"\"Find the number of readings between two given readings.\"\"\"\n",
        "    str_reading1 = str(reading1)\n",
        "    str_reading2 = str(reading2)\n",
        "\n",
        "    if len(str_reading1) != len(str_reading2):\n",
        "        return -1  # Return -1 if different sized readings are given\n",
        "\n",
        "    # If readings are the same, the distance is 0\n",
        "    if reading1 == reading2:\n",
        "        return 0\n",
        "\n",
        "    count = 0\n",
        "    current_reading = reading1\n",
        "\n",
        "    while current_reading != reading2:\n",
        "        current_reading = next_reading(current_reading)\n",
        "        count += 1\n",
        "\n",
        "        # If the next reading loops back to the beginning, reset it to the smallest reading\n",
        "        if current_reading == int('1' * len(str_reading1)):\n",
        "            current_reading = reading2 - 1  # Set current_reading to one less than reading2 to avoid double counting\n",
        "\n",
        "    return count\n"
      ],
      "metadata": {
        "id": "48B7OJjRhpH8"
      },
      "execution_count": null,
      "outputs": []
    },
    {
      "cell_type": "code",
      "source": [
        "def is_ascending(reading: int) ->bool:\n",
        "    r = str(reading)\n",
        "    return all(a < b for a,b in zip(r,r[1:]))\n",
        "\n",
        "def next_reading(reading: int)-> int:\n",
        "    size = len(str(reading))\n",
        "    DIGITS = \"123456789\"\n",
        "    START = int(DIGITS[:size])\n",
        "    LIMIT = int(DIGITS[-size:])\n",
        "\n",
        "    if reading == LIMIT:\n",
        "        reading = START\n",
        "    else:\n",
        "        reading += 1\n",
        "        while '0' in str(reading) or not is_ascending(reading):\n",
        "            reading += 1\n",
        "    return reading\n",
        "\n",
        "def prev_reading(reading: int)->int:\n",
        "    size = len(str(reading))\n",
        "    DIGITS = \"123456789\"\n",
        "    START = int(DIGITS[:size])\n",
        "    LIMIT = int(DIGITS[-size:])\n",
        "    if reading == START:\n",
        "        reading = LIMIT\n",
        "    else:\n",
        "        reading -= 1\n",
        "        while '0' in str(reading) or not is_ascending(reading):\n",
        "            reading -= 1\n",
        "    return reading\n",
        "\n",
        "\n",
        "def nth_reading_after(reading :int, r:int)->int:\n",
        "    next_r = reading\n",
        "    for _ in range(r):\n",
        "        next_r = next_reading(next_r)\n",
        "    return next_r\n",
        "\n",
        "\n",
        "def nth_reading_before(reading: int, r:int)->int:\n",
        "    prev_r = reading\n",
        "    for _ in range(r):\n",
        "        prev_r = prev_reading(prev_r)\n",
        "    return prev_r\n",
        "\n",
        "\n",
        "def distance(reading1, reading2):\n",
        "    if len(str(reading1)) != len(str(reading2)):\n",
        "        return -1\n",
        "\n",
        "    readings = [reading1]\n",
        "    count = 0\n",
        "    while readings[-1] != reading2:\n",
        "        next_r = next_reading(readings[-1])\n",
        "        readings.append(next_r)\n",
        "        count += 1\n",
        "        if next_r == -1:\n",
        "            return -1  # If readings are not strictly increasing, return -1\n",
        "    return count\n",
        "\n"
      ],
      "metadata": {
        "id": "GsHbKOrksqPn"
      },
      "execution_count": null,
      "outputs": []
    },
    {
      "cell_type": "code",
      "source": [
        "distance(778,123)"
      ],
      "metadata": {
        "colab": {
          "base_uri": "https://localhost:8080/"
        },
        "id": "Y6s5oPg7srBy",
        "outputId": "f6f9967a-7e1e-4e2c-c50c-41bd00789372"
      },
      "execution_count": null,
      "outputs": [
        {
          "output_type": "execute_result",
          "data": {
            "text/plain": [
              "2"
            ]
          },
          "metadata": {},
          "execution_count": 43
        }
      ]
    },
    {
      "cell_type": "markdown",
      "source": [
        "**Final Code**"
      ],
      "metadata": {
        "id": "1wu_wiWdZgJR"
      }
    },
    {
      "cell_type": "code",
      "source": [
        "def get_limits(reading: int)-> int:\n",
        "    size = len(str(reading))\n",
        "    DIGITS = \"123456789\"\n",
        "    START = int(DIGITS[:size])\n",
        "    LIMIT = int(DIGITS[-size:])\n",
        "    return START, LIMIT\n",
        "\n",
        "\n",
        "def is_ascending(reading: int) -> bool:\n",
        "    r = str(reading)\n",
        "    return all(a < b for a, b in zip(r, r[1:]))\n",
        "\n",
        "\n",
        "def next_reading(reading: int) -> int:\n",
        "    START, LIMIT = get_limits(reading)\n",
        "    if reading == LIMIT:\n",
        "        return START\n",
        "    else:\n",
        "        reading += 1\n",
        "        while '0' in str(reading) or not is_ascending(reading):\n",
        "            reading += 1\n",
        "    return reading\n",
        "\n",
        "\n",
        "def prev_reading(reading: int) -> int:\n",
        "    START, LIMIT = get_limits(reading)\n",
        "    if reading == START:\n",
        "        return LIMIT\n",
        "    else:\n",
        "        reading -= 1\n",
        "        while '0' in str(reading) or not is_ascending(reading):\n",
        "            reading -= 1\n",
        "    return reading\n",
        "\n",
        "\n",
        "def nth_reading_after(reading: int, r: int) -> int:\n",
        "    next_r = reading\n",
        "    for _ in range(r):\n",
        "        next_r = next_reading(next_r)\n",
        "    return next_r\n",
        "\n",
        "\n",
        "def nth_reading_before(reading: int, r: int) -> int:\n",
        "    prev_r = reading\n",
        "    for _ in range(r):\n",
        "        prev_r = prev_reading(prev_r)\n",
        "    return prev_r\n",
        "\n",
        "\n",
        "def distance(reading1: int, reading2: int) -> int:\n",
        "    if len(str(reading1)) != len(str(reading2)):\n",
        "        return -1\n",
        "\n",
        "    count = 0\n",
        "    current_reading = reading1\n",
        "\n",
        "    while current_reading != reading2:\n",
        "        current_reading = next_reading(current_reading)\n",
        "        count += 1\n",
        "        if current_reading == reading1:\n",
        "            return -1\n",
        "    return count\n"
      ],
      "metadata": {
        "id": "4gB4Y3Z6t-ST"
      },
      "execution_count": null,
      "outputs": []
    },
    {
      "cell_type": "code",
      "source": [
        "distance(778,123)"
      ],
      "metadata": {
        "colab": {
          "base_uri": "https://localhost:8080/"
        },
        "id": "X4C_yUumuY3_",
        "outputId": "dfdac019-0bea-4e4e-d82f-134fb1b7fe30"
      },
      "execution_count": null,
      "outputs": [
        {
          "output_type": "execute_result",
          "data": {
            "text/plain": [
              "2"
            ]
          },
          "metadata": {},
          "execution_count": 45
        }
      ]
    }
  ]
}